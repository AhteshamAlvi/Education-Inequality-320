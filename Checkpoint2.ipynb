{
  "cells": [
    {
      "cell_type": "code",
      "execution_count": 54,
      "metadata": {
        "id": "RMJBPJn2LRfZ"
      },
      "outputs": [],
      "source": [
        "import pandas as pd\n",
        "import numpy as np\n",
        "import matplotlib.pyplot as plt\n",
        "import seaborn as sns\n",
        "from IPython.display import display\n",
        "import scipy.stats as stats\n"
      ]
    },
    {
      "cell_type": "markdown",
      "metadata": {
        "id": "hRyv5COYMHyY"
      },
      "source": [
        "# Student Performance Metrics Analysis\n",
        "https://data.mendeley.com/datasets/5b82ytz489/1"
      ]
    },
    {
      "cell_type": "code",
      "execution_count": 55,
      "metadata": {
        "id": "j7dYdhns6faN"
      },
      "outputs": [],
      "source": [
        "df = pd.read_csv(\"ResearchInformation3.csv\")"
      ]
    },
    {
      "cell_type": "markdown",
      "metadata": {
        "id": "lLw0sYZqYY8l"
      },
      "source": [
        "### Data Cleaning"
      ]
    },
    {
      "cell_type": "code",
      "execution_count": 56,
      "metadata": {
        "id": "K3_0ntueYYH_"
      },
      "outputs": [
        {
          "name": "stdout",
          "output_type": "stream",
          "text": [
            "\n",
            " Datatypes:\n"
          ]
        },
        {
          "data": {
            "application/vnd.microsoft.datawrangler.viewer.v0+json": {
              "columns": [
                {
                  "name": "index",
                  "rawType": "object",
                  "type": "string"
                },
                {
                  "name": "0",
                  "rawType": "object",
                  "type": "unknown"
                }
              ],
              "ref": "5eecc6ba-24fd-40c2-999b-002d99bda81a",
              "rows": [
                [
                  "Department",
                  "object"
                ],
                [
                  "Gender",
                  "object"
                ],
                [
                  "HSC",
                  "float64"
                ],
                [
                  "SSC",
                  "float64"
                ],
                [
                  "Income",
                  "object"
                ],
                [
                  "Hometown",
                  "object"
                ],
                [
                  "Computer",
                  "int64"
                ],
                [
                  "Preparation",
                  "object"
                ],
                [
                  "Gaming",
                  "object"
                ],
                [
                  "Attendance",
                  "object"
                ],
                [
                  "Job",
                  "object"
                ],
                [
                  "English",
                  "int64"
                ],
                [
                  "Extra",
                  "object"
                ],
                [
                  "Semester",
                  "object"
                ],
                [
                  "Last",
                  "float64"
                ],
                [
                  "Overall",
                  "float64"
                ]
              ],
              "shape": {
                "columns": 1,
                "rows": 16
              }
            },
            "text/plain": [
              "Department      object\n",
              "Gender          object\n",
              "HSC            float64\n",
              "SSC            float64\n",
              "Income          object\n",
              "Hometown        object\n",
              "Computer         int64\n",
              "Preparation     object\n",
              "Gaming          object\n",
              "Attendance      object\n",
              "Job             object\n",
              "English          int64\n",
              "Extra           object\n",
              "Semester        object\n",
              "Last           float64\n",
              "Overall        float64\n",
              "dtype: object"
            ]
          },
          "metadata": {},
          "output_type": "display_data"
        },
        {
          "name": "stdout",
          "output_type": "stream",
          "text": [
            "\n",
            " Isnull:\n"
          ]
        },
        {
          "data": {
            "application/vnd.microsoft.datawrangler.viewer.v0+json": {
              "columns": [
                {
                  "name": "index",
                  "rawType": "object",
                  "type": "string"
                },
                {
                  "name": "0",
                  "rawType": "int64",
                  "type": "integer"
                }
              ],
              "ref": "00b0deaa-08f5-4675-8ed6-91bea00153e0",
              "rows": [
                [
                  "Department",
                  "0"
                ],
                [
                  "Gender",
                  "0"
                ],
                [
                  "HSC",
                  "0"
                ],
                [
                  "SSC",
                  "0"
                ],
                [
                  "Income",
                  "0"
                ],
                [
                  "Hometown",
                  "0"
                ],
                [
                  "Computer",
                  "0"
                ],
                [
                  "Preparation",
                  "0"
                ],
                [
                  "Gaming",
                  "0"
                ],
                [
                  "Attendance",
                  "0"
                ],
                [
                  "Job",
                  "0"
                ],
                [
                  "English",
                  "0"
                ],
                [
                  "Extra",
                  "0"
                ],
                [
                  "Semester",
                  "0"
                ],
                [
                  "Last",
                  "0"
                ],
                [
                  "Overall",
                  "0"
                ]
              ],
              "shape": {
                "columns": 1,
                "rows": 16
              }
            },
            "text/plain": [
              "Department     0\n",
              "Gender         0\n",
              "HSC            0\n",
              "SSC            0\n",
              "Income         0\n",
              "Hometown       0\n",
              "Computer       0\n",
              "Preparation    0\n",
              "Gaming         0\n",
              "Attendance     0\n",
              "Job            0\n",
              "English        0\n",
              "Extra          0\n",
              "Semester       0\n",
              "Last           0\n",
              "Overall        0\n",
              "dtype: int64"
            ]
          },
          "metadata": {},
          "output_type": "display_data"
        }
      ],
      "source": [
        "# All columns are already in the correct datatypes, with strings being objects,\n",
        "# and numbers being in float64 (all numbers use decimals so that is appropriate)\n",
        "# except for the ID, which is an int64\n",
        "print(\"\\n Datatypes:\")\n",
        "display(df.dtypes)\n",
        "\n",
        "#Quick check to see if dataset is clean.\n",
        "print(\"\\n Isnull:\")\n",
        "display(df.isnull().sum())\n",
        "\n",
        "df['Income'] = df['Income'].str.strip()"
      ]
    },
    {
      "cell_type": "markdown",
      "metadata": {
        "id": "G4kGJ9c-2cie"
      },
      "source": [
        "## Overall Summary Statistics"
      ]
    },
    {
      "cell_type": "markdown",
      "metadata": {
        "id": "eQpT_hQrbjAO"
      },
      "source": [
        "### Summary Statistics for Entire Dataset"
      ]
    },
    {
      "cell_type": "code",
      "execution_count": 57,
      "metadata": {
        "colab": {
          "base_uri": "https://localhost:8080/",
          "height": 1000
        },
        "collapsed": true,
        "id": "3NdGkLPE2Xd-",
        "outputId": "18671449-3b0c-4ac0-e5c3-0370495986cf"
      },
      "outputs": [
        {
          "data": {
            "application/vnd.microsoft.datawrangler.viewer.v0+json": {
              "columns": [
                {
                  "name": "index",
                  "rawType": "object",
                  "type": "string"
                },
                {
                  "name": "HSC",
                  "rawType": "float64",
                  "type": "float"
                },
                {
                  "name": "SSC",
                  "rawType": "float64",
                  "type": "float"
                },
                {
                  "name": "Computer",
                  "rawType": "float64",
                  "type": "float"
                },
                {
                  "name": "English",
                  "rawType": "float64",
                  "type": "float"
                },
                {
                  "name": "Last",
                  "rawType": "float64",
                  "type": "float"
                },
                {
                  "name": "Overall",
                  "rawType": "float64",
                  "type": "float"
                }
              ],
              "ref": "754a23b9-959a-4bb0-bb80-5b8938e634a0",
              "rows": [
                [
                  "count",
                  "493.0",
                  "493.0",
                  "493.0",
                  "493.0",
                  "493.0",
                  "493.0"
                ],
                [
                  "mean",
                  "4.1567748478701825",
                  "4.76764705882353",
                  "3.338742393509128",
                  "3.5699797160243407",
                  "3.163888438133874",
                  "3.1883833671399597"
                ],
                [
                  "std",
                  "0.5465039887984245",
                  "0.34953764637911405",
                  "1.2529883144005536",
                  "0.8705148693727788",
                  "0.6414745698057835",
                  "0.5918011582119429"
                ],
                [
                  "min",
                  "2.17",
                  "3.0",
                  "1.0",
                  "1.0",
                  "1.0",
                  "1.0"
                ],
                [
                  "25%",
                  "3.83",
                  "4.68",
                  "3.0",
                  "3.0",
                  "2.81",
                  "2.88"
                ],
                [
                  "50%",
                  "4.17",
                  "4.94",
                  "3.0",
                  "4.0",
                  "3.25",
                  "3.27"
                ],
                [
                  "75%",
                  "4.5",
                  "5.0",
                  "4.0",
                  "4.0",
                  "3.67",
                  "3.68"
                ],
                [
                  "max",
                  "5.0",
                  "5.0",
                  "5.0",
                  "5.0",
                  "4.0",
                  "4.0"
                ]
              ],
              "shape": {
                "columns": 6,
                "rows": 8
              }
            },
            "text/html": [
              "<div>\n",
              "<style scoped>\n",
              "    .dataframe tbody tr th:only-of-type {\n",
              "        vertical-align: middle;\n",
              "    }\n",
              "\n",
              "    .dataframe tbody tr th {\n",
              "        vertical-align: top;\n",
              "    }\n",
              "\n",
              "    .dataframe thead th {\n",
              "        text-align: right;\n",
              "    }\n",
              "</style>\n",
              "<table border=\"1\" class=\"dataframe\">\n",
              "  <thead>\n",
              "    <tr style=\"text-align: right;\">\n",
              "      <th></th>\n",
              "      <th>HSC</th>\n",
              "      <th>SSC</th>\n",
              "      <th>Computer</th>\n",
              "      <th>English</th>\n",
              "      <th>Last</th>\n",
              "      <th>Overall</th>\n",
              "    </tr>\n",
              "  </thead>\n",
              "  <tbody>\n",
              "    <tr>\n",
              "      <th>count</th>\n",
              "      <td>493.000000</td>\n",
              "      <td>493.000000</td>\n",
              "      <td>493.000000</td>\n",
              "      <td>493.000000</td>\n",
              "      <td>493.000000</td>\n",
              "      <td>493.000000</td>\n",
              "    </tr>\n",
              "    <tr>\n",
              "      <th>mean</th>\n",
              "      <td>4.156775</td>\n",
              "      <td>4.767647</td>\n",
              "      <td>3.338742</td>\n",
              "      <td>3.569980</td>\n",
              "      <td>3.163888</td>\n",
              "      <td>3.188383</td>\n",
              "    </tr>\n",
              "    <tr>\n",
              "      <th>std</th>\n",
              "      <td>0.546504</td>\n",
              "      <td>0.349538</td>\n",
              "      <td>1.252988</td>\n",
              "      <td>0.870515</td>\n",
              "      <td>0.641475</td>\n",
              "      <td>0.591801</td>\n",
              "    </tr>\n",
              "    <tr>\n",
              "      <th>min</th>\n",
              "      <td>2.170000</td>\n",
              "      <td>3.000000</td>\n",
              "      <td>1.000000</td>\n",
              "      <td>1.000000</td>\n",
              "      <td>1.000000</td>\n",
              "      <td>1.000000</td>\n",
              "    </tr>\n",
              "    <tr>\n",
              "      <th>25%</th>\n",
              "      <td>3.830000</td>\n",
              "      <td>4.680000</td>\n",
              "      <td>3.000000</td>\n",
              "      <td>3.000000</td>\n",
              "      <td>2.810000</td>\n",
              "      <td>2.880000</td>\n",
              "    </tr>\n",
              "    <tr>\n",
              "      <th>50%</th>\n",
              "      <td>4.170000</td>\n",
              "      <td>4.940000</td>\n",
              "      <td>3.000000</td>\n",
              "      <td>4.000000</td>\n",
              "      <td>3.250000</td>\n",
              "      <td>3.270000</td>\n",
              "    </tr>\n",
              "    <tr>\n",
              "      <th>75%</th>\n",
              "      <td>4.500000</td>\n",
              "      <td>5.000000</td>\n",
              "      <td>4.000000</td>\n",
              "      <td>4.000000</td>\n",
              "      <td>3.670000</td>\n",
              "      <td>3.680000</td>\n",
              "    </tr>\n",
              "    <tr>\n",
              "      <th>max</th>\n",
              "      <td>5.000000</td>\n",
              "      <td>5.000000</td>\n",
              "      <td>5.000000</td>\n",
              "      <td>5.000000</td>\n",
              "      <td>4.000000</td>\n",
              "      <td>4.000000</td>\n",
              "    </tr>\n",
              "  </tbody>\n",
              "</table>\n",
              "</div>"
            ],
            "text/plain": [
              "              HSC         SSC    Computer     English        Last     Overall\n",
              "count  493.000000  493.000000  493.000000  493.000000  493.000000  493.000000\n",
              "mean     4.156775    4.767647    3.338742    3.569980    3.163888    3.188383\n",
              "std      0.546504    0.349538    1.252988    0.870515    0.641475    0.591801\n",
              "min      2.170000    3.000000    1.000000    1.000000    1.000000    1.000000\n",
              "25%      3.830000    4.680000    3.000000    3.000000    2.810000    2.880000\n",
              "50%      4.170000    4.940000    3.000000    4.000000    3.250000    3.270000\n",
              "75%      4.500000    5.000000    4.000000    4.000000    3.670000    3.680000\n",
              "max      5.000000    5.000000    5.000000    5.000000    4.000000    4.000000"
            ]
          },
          "metadata": {},
          "output_type": "display_data"
        }
      ],
      "source": [
        "display(df.describe())\n",
        "\n",
        "incomes = df.groupby('Income')\n",
        "home_towns = df.groupby('Hometown')\n",
        "overall_gpas = df.groupby('Overall')"
      ]
    },
    {
      "cell_type": "markdown",
      "metadata": {
        "id": "Hn__-IeycWx5"
      },
      "source": [
        "### Summary Statistics by Income (Low, Lower Middle, Upper Middle, High)"
      ]
    },
    {
      "cell_type": "code",
      "execution_count": 58,
      "metadata": {
        "id": "LeOblJH7bZCd"
      },
      "outputs": [
        {
          "name": "stdout",
          "output_type": "stream",
          "text": [
            "\n",
            "Income Level: High (Above 50,000)\n"
          ]
        },
        {
          "data": {
            "application/vnd.microsoft.datawrangler.viewer.v0+json": {
              "columns": [
                {
                  "name": "index",
                  "rawType": "object",
                  "type": "string"
                },
                {
                  "name": "HSC",
                  "rawType": "float64",
                  "type": "float"
                },
                {
                  "name": "SSC",
                  "rawType": "float64",
                  "type": "float"
                },
                {
                  "name": "Computer",
                  "rawType": "float64",
                  "type": "float"
                },
                {
                  "name": "English",
                  "rawType": "float64",
                  "type": "float"
                },
                {
                  "name": "Last",
                  "rawType": "float64",
                  "type": "float"
                },
                {
                  "name": "Overall",
                  "rawType": "float64",
                  "type": "float"
                }
              ],
              "ref": "d4629d89-e308-415a-98f7-5a42a4ca00e7",
              "rows": [
                [
                  "count",
                  "129.0",
                  "129.0",
                  "129.0",
                  "129.0",
                  "129.0",
                  "129.0"
                ],
                [
                  "mean",
                  "4.101550387596899",
                  "4.798139534883721",
                  "3.5193798449612403",
                  "3.6666666666666665",
                  "3.1536434108527134",
                  "3.184728682170543"
                ],
                [
                  "std",
                  "0.5162809458225045",
                  "0.29805035082667997",
                  "1.1117327072651504",
                  "0.7938566201357354",
                  "0.6376530918930569",
                  "0.5728016093064255"
                ],
                [
                  "min",
                  "2.59",
                  "3.06",
                  "1.0",
                  "2.0",
                  "1.06",
                  "1.06"
                ],
                [
                  "25%",
                  "3.8",
                  "4.68",
                  "3.0",
                  "3.0",
                  "2.75",
                  "2.89"
                ],
                [
                  "50%",
                  "4.08",
                  "4.94",
                  "3.0",
                  "4.0",
                  "3.31",
                  "3.27"
                ],
                [
                  "75%",
                  "4.5",
                  "5.0",
                  "5.0",
                  "4.0",
                  "3.66",
                  "3.67"
                ],
                [
                  "max",
                  "5.0",
                  "5.0",
                  "5.0",
                  "5.0",
                  "4.0",
                  "4.0"
                ]
              ],
              "shape": {
                "columns": 6,
                "rows": 8
              }
            },
            "text/html": [
              "<div>\n",
              "<style scoped>\n",
              "    .dataframe tbody tr th:only-of-type {\n",
              "        vertical-align: middle;\n",
              "    }\n",
              "\n",
              "    .dataframe tbody tr th {\n",
              "        vertical-align: top;\n",
              "    }\n",
              "\n",
              "    .dataframe thead th {\n",
              "        text-align: right;\n",
              "    }\n",
              "</style>\n",
              "<table border=\"1\" class=\"dataframe\">\n",
              "  <thead>\n",
              "    <tr style=\"text-align: right;\">\n",
              "      <th></th>\n",
              "      <th>HSC</th>\n",
              "      <th>SSC</th>\n",
              "      <th>Computer</th>\n",
              "      <th>English</th>\n",
              "      <th>Last</th>\n",
              "      <th>Overall</th>\n",
              "    </tr>\n",
              "  </thead>\n",
              "  <tbody>\n",
              "    <tr>\n",
              "      <th>count</th>\n",
              "      <td>129.000000</td>\n",
              "      <td>129.00000</td>\n",
              "      <td>129.000000</td>\n",
              "      <td>129.000000</td>\n",
              "      <td>129.000000</td>\n",
              "      <td>129.000000</td>\n",
              "    </tr>\n",
              "    <tr>\n",
              "      <th>mean</th>\n",
              "      <td>4.101550</td>\n",
              "      <td>4.79814</td>\n",
              "      <td>3.519380</td>\n",
              "      <td>3.666667</td>\n",
              "      <td>3.153643</td>\n",
              "      <td>3.184729</td>\n",
              "    </tr>\n",
              "    <tr>\n",
              "      <th>std</th>\n",
              "      <td>0.516281</td>\n",
              "      <td>0.29805</td>\n",
              "      <td>1.111733</td>\n",
              "      <td>0.793857</td>\n",
              "      <td>0.637653</td>\n",
              "      <td>0.572802</td>\n",
              "    </tr>\n",
              "    <tr>\n",
              "      <th>min</th>\n",
              "      <td>2.590000</td>\n",
              "      <td>3.06000</td>\n",
              "      <td>1.000000</td>\n",
              "      <td>2.000000</td>\n",
              "      <td>1.060000</td>\n",
              "      <td>1.060000</td>\n",
              "    </tr>\n",
              "    <tr>\n",
              "      <th>25%</th>\n",
              "      <td>3.800000</td>\n",
              "      <td>4.68000</td>\n",
              "      <td>3.000000</td>\n",
              "      <td>3.000000</td>\n",
              "      <td>2.750000</td>\n",
              "      <td>2.890000</td>\n",
              "    </tr>\n",
              "    <tr>\n",
              "      <th>50%</th>\n",
              "      <td>4.080000</td>\n",
              "      <td>4.94000</td>\n",
              "      <td>3.000000</td>\n",
              "      <td>4.000000</td>\n",
              "      <td>3.310000</td>\n",
              "      <td>3.270000</td>\n",
              "    </tr>\n",
              "    <tr>\n",
              "      <th>75%</th>\n",
              "      <td>4.500000</td>\n",
              "      <td>5.00000</td>\n",
              "      <td>5.000000</td>\n",
              "      <td>4.000000</td>\n",
              "      <td>3.660000</td>\n",
              "      <td>3.670000</td>\n",
              "    </tr>\n",
              "    <tr>\n",
              "      <th>max</th>\n",
              "      <td>5.000000</td>\n",
              "      <td>5.00000</td>\n",
              "      <td>5.000000</td>\n",
              "      <td>5.000000</td>\n",
              "      <td>4.000000</td>\n",
              "      <td>4.000000</td>\n",
              "    </tr>\n",
              "  </tbody>\n",
              "</table>\n",
              "</div>"
            ],
            "text/plain": [
              "              HSC        SSC    Computer     English        Last     Overall\n",
              "count  129.000000  129.00000  129.000000  129.000000  129.000000  129.000000\n",
              "mean     4.101550    4.79814    3.519380    3.666667    3.153643    3.184729\n",
              "std      0.516281    0.29805    1.111733    0.793857    0.637653    0.572802\n",
              "min      2.590000    3.06000    1.000000    2.000000    1.060000    1.060000\n",
              "25%      3.800000    4.68000    3.000000    3.000000    2.750000    2.890000\n",
              "50%      4.080000    4.94000    3.000000    4.000000    3.310000    3.270000\n",
              "75%      4.500000    5.00000    5.000000    4.000000    3.660000    3.670000\n",
              "max      5.000000    5.00000    5.000000    5.000000    4.000000    4.000000"
            ]
          },
          "metadata": {},
          "output_type": "display_data"
        },
        {
          "name": "stdout",
          "output_type": "stream",
          "text": [
            "\n",
            "Income Level: Low (Below 15,000)\n"
          ]
        },
        {
          "data": {
            "application/vnd.microsoft.datawrangler.viewer.v0+json": {
              "columns": [
                {
                  "name": "index",
                  "rawType": "object",
                  "type": "string"
                },
                {
                  "name": "HSC",
                  "rawType": "float64",
                  "type": "float"
                },
                {
                  "name": "SSC",
                  "rawType": "float64",
                  "type": "float"
                },
                {
                  "name": "Computer",
                  "rawType": "float64",
                  "type": "float"
                },
                {
                  "name": "English",
                  "rawType": "float64",
                  "type": "float"
                },
                {
                  "name": "Last",
                  "rawType": "float64",
                  "type": "float"
                },
                {
                  "name": "Overall",
                  "rawType": "float64",
                  "type": "float"
                }
              ],
              "ref": "367c0f7f-b0c3-4ccf-bb8a-59fcc74f7cfc",
              "rows": [
                [
                  "count",
                  "74.0",
                  "74.0",
                  "74.0",
                  "74.0",
                  "74.0",
                  "74.0"
                ],
                [
                  "mean",
                  "4.143648648648648",
                  "4.752432432432433",
                  "3.310810810810811",
                  "3.4324324324324325",
                  "3.2281081081081084",
                  "3.2329729729729735"
                ],
                [
                  "std",
                  "0.640258026591301",
                  "0.42651441964675113",
                  "1.2488424851670596",
                  "0.9942448236449045",
                  "0.6150012265845339",
                  "0.578788838703269"
                ],
                [
                  "min",
                  "2.25",
                  "3.0",
                  "1.0",
                  "1.0",
                  "1.25",
                  "1.44"
                ],
                [
                  "25%",
                  "3.67",
                  "4.685",
                  "3.0",
                  "3.0",
                  "3.0025",
                  "3.08"
                ],
                [
                  "50%",
                  "4.17",
                  "4.975",
                  "3.0",
                  "3.0",
                  "3.3",
                  "3.34"
                ],
                [
                  "75%",
                  "4.5225",
                  "5.0",
                  "4.0",
                  "4.0",
                  "3.6350000000000002",
                  "3.67"
                ],
                [
                  "max",
                  "5.0",
                  "5.0",
                  "5.0",
                  "5.0",
                  "4.0",
                  "4.0"
                ]
              ],
              "shape": {
                "columns": 6,
                "rows": 8
              }
            },
            "text/html": [
              "<div>\n",
              "<style scoped>\n",
              "    .dataframe tbody tr th:only-of-type {\n",
              "        vertical-align: middle;\n",
              "    }\n",
              "\n",
              "    .dataframe tbody tr th {\n",
              "        vertical-align: top;\n",
              "    }\n",
              "\n",
              "    .dataframe thead th {\n",
              "        text-align: right;\n",
              "    }\n",
              "</style>\n",
              "<table border=\"1\" class=\"dataframe\">\n",
              "  <thead>\n",
              "    <tr style=\"text-align: right;\">\n",
              "      <th></th>\n",
              "      <th>HSC</th>\n",
              "      <th>SSC</th>\n",
              "      <th>Computer</th>\n",
              "      <th>English</th>\n",
              "      <th>Last</th>\n",
              "      <th>Overall</th>\n",
              "    </tr>\n",
              "  </thead>\n",
              "  <tbody>\n",
              "    <tr>\n",
              "      <th>count</th>\n",
              "      <td>74.000000</td>\n",
              "      <td>74.000000</td>\n",
              "      <td>74.000000</td>\n",
              "      <td>74.000000</td>\n",
              "      <td>74.000000</td>\n",
              "      <td>74.000000</td>\n",
              "    </tr>\n",
              "    <tr>\n",
              "      <th>mean</th>\n",
              "      <td>4.143649</td>\n",
              "      <td>4.752432</td>\n",
              "      <td>3.310811</td>\n",
              "      <td>3.432432</td>\n",
              "      <td>3.228108</td>\n",
              "      <td>3.232973</td>\n",
              "    </tr>\n",
              "    <tr>\n",
              "      <th>std</th>\n",
              "      <td>0.640258</td>\n",
              "      <td>0.426514</td>\n",
              "      <td>1.248842</td>\n",
              "      <td>0.994245</td>\n",
              "      <td>0.615001</td>\n",
              "      <td>0.578789</td>\n",
              "    </tr>\n",
              "    <tr>\n",
              "      <th>min</th>\n",
              "      <td>2.250000</td>\n",
              "      <td>3.000000</td>\n",
              "      <td>1.000000</td>\n",
              "      <td>1.000000</td>\n",
              "      <td>1.250000</td>\n",
              "      <td>1.440000</td>\n",
              "    </tr>\n",
              "    <tr>\n",
              "      <th>25%</th>\n",
              "      <td>3.670000</td>\n",
              "      <td>4.685000</td>\n",
              "      <td>3.000000</td>\n",
              "      <td>3.000000</td>\n",
              "      <td>3.002500</td>\n",
              "      <td>3.080000</td>\n",
              "    </tr>\n",
              "    <tr>\n",
              "      <th>50%</th>\n",
              "      <td>4.170000</td>\n",
              "      <td>4.975000</td>\n",
              "      <td>3.000000</td>\n",
              "      <td>3.000000</td>\n",
              "      <td>3.300000</td>\n",
              "      <td>3.340000</td>\n",
              "    </tr>\n",
              "    <tr>\n",
              "      <th>75%</th>\n",
              "      <td>4.522500</td>\n",
              "      <td>5.000000</td>\n",
              "      <td>4.000000</td>\n",
              "      <td>4.000000</td>\n",
              "      <td>3.635000</td>\n",
              "      <td>3.670000</td>\n",
              "    </tr>\n",
              "    <tr>\n",
              "      <th>max</th>\n",
              "      <td>5.000000</td>\n",
              "      <td>5.000000</td>\n",
              "      <td>5.000000</td>\n",
              "      <td>5.000000</td>\n",
              "      <td>4.000000</td>\n",
              "      <td>4.000000</td>\n",
              "    </tr>\n",
              "  </tbody>\n",
              "</table>\n",
              "</div>"
            ],
            "text/plain": [
              "             HSC        SSC   Computer    English       Last    Overall\n",
              "count  74.000000  74.000000  74.000000  74.000000  74.000000  74.000000\n",
              "mean    4.143649   4.752432   3.310811   3.432432   3.228108   3.232973\n",
              "std     0.640258   0.426514   1.248842   0.994245   0.615001   0.578789\n",
              "min     2.250000   3.000000   1.000000   1.000000   1.250000   1.440000\n",
              "25%     3.670000   4.685000   3.000000   3.000000   3.002500   3.080000\n",
              "50%     4.170000   4.975000   3.000000   3.000000   3.300000   3.340000\n",
              "75%     4.522500   5.000000   4.000000   4.000000   3.635000   3.670000\n",
              "max     5.000000   5.000000   5.000000   5.000000   4.000000   4.000000"
            ]
          },
          "metadata": {},
          "output_type": "display_data"
        },
        {
          "name": "stdout",
          "output_type": "stream",
          "text": [
            "\n",
            "Income Level: Lower middle (15,000-30,000)\n"
          ]
        },
        {
          "data": {
            "application/vnd.microsoft.datawrangler.viewer.v0+json": {
              "columns": [
                {
                  "name": "index",
                  "rawType": "object",
                  "type": "string"
                },
                {
                  "name": "HSC",
                  "rawType": "float64",
                  "type": "float"
                },
                {
                  "name": "SSC",
                  "rawType": "float64",
                  "type": "float"
                },
                {
                  "name": "Computer",
                  "rawType": "float64",
                  "type": "float"
                },
                {
                  "name": "English",
                  "rawType": "float64",
                  "type": "float"
                },
                {
                  "name": "Last",
                  "rawType": "float64",
                  "type": "float"
                },
                {
                  "name": "Overall",
                  "rawType": "float64",
                  "type": "float"
                }
              ],
              "ref": "069be452-9f7a-42b7-9ad7-e504b1d95fd4",
              "rows": [
                [
                  "count",
                  "180.0",
                  "180.0",
                  "180.0",
                  "180.0",
                  "180.0",
                  "180.0"
                ],
                [
                  "mean",
                  "4.217333333333334",
                  "4.764111111111111",
                  "3.161111111111111",
                  "3.561111111111111",
                  "3.1342222222222222",
                  "3.1706444444444446"
                ],
                [
                  "std",
                  "0.5250119445302568",
                  "0.3717056997816353",
                  "1.3251494651184772",
                  "0.8916990804947503",
                  "0.6657544597077307",
                  "0.6186555130472143"
                ],
                [
                  "min",
                  "2.19",
                  "3.17",
                  "1.0",
                  "1.0",
                  "1.0",
                  "1.0"
                ],
                [
                  "25%",
                  "3.92",
                  "4.73",
                  "2.0",
                  "3.0",
                  "2.745",
                  "2.8445"
                ],
                [
                  "50%",
                  "4.225",
                  "4.945",
                  "3.0",
                  "4.0",
                  "3.19",
                  "3.25"
                ],
                [
                  "75%",
                  "4.5225",
                  "5.0",
                  "4.0",
                  "4.0",
                  "3.75",
                  "3.7"
                ],
                [
                  "max",
                  "5.0",
                  "5.0",
                  "5.0",
                  "5.0",
                  "4.0",
                  "4.0"
                ]
              ],
              "shape": {
                "columns": 6,
                "rows": 8
              }
            },
            "text/html": [
              "<div>\n",
              "<style scoped>\n",
              "    .dataframe tbody tr th:only-of-type {\n",
              "        vertical-align: middle;\n",
              "    }\n",
              "\n",
              "    .dataframe tbody tr th {\n",
              "        vertical-align: top;\n",
              "    }\n",
              "\n",
              "    .dataframe thead th {\n",
              "        text-align: right;\n",
              "    }\n",
              "</style>\n",
              "<table border=\"1\" class=\"dataframe\">\n",
              "  <thead>\n",
              "    <tr style=\"text-align: right;\">\n",
              "      <th></th>\n",
              "      <th>HSC</th>\n",
              "      <th>SSC</th>\n",
              "      <th>Computer</th>\n",
              "      <th>English</th>\n",
              "      <th>Last</th>\n",
              "      <th>Overall</th>\n",
              "    </tr>\n",
              "  </thead>\n",
              "  <tbody>\n",
              "    <tr>\n",
              "      <th>count</th>\n",
              "      <td>180.000000</td>\n",
              "      <td>180.000000</td>\n",
              "      <td>180.000000</td>\n",
              "      <td>180.000000</td>\n",
              "      <td>180.000000</td>\n",
              "      <td>180.000000</td>\n",
              "    </tr>\n",
              "    <tr>\n",
              "      <th>mean</th>\n",
              "      <td>4.217333</td>\n",
              "      <td>4.764111</td>\n",
              "      <td>3.161111</td>\n",
              "      <td>3.561111</td>\n",
              "      <td>3.134222</td>\n",
              "      <td>3.170644</td>\n",
              "    </tr>\n",
              "    <tr>\n",
              "      <th>std</th>\n",
              "      <td>0.525012</td>\n",
              "      <td>0.371706</td>\n",
              "      <td>1.325149</td>\n",
              "      <td>0.891699</td>\n",
              "      <td>0.665754</td>\n",
              "      <td>0.618656</td>\n",
              "    </tr>\n",
              "    <tr>\n",
              "      <th>min</th>\n",
              "      <td>2.190000</td>\n",
              "      <td>3.170000</td>\n",
              "      <td>1.000000</td>\n",
              "      <td>1.000000</td>\n",
              "      <td>1.000000</td>\n",
              "      <td>1.000000</td>\n",
              "    </tr>\n",
              "    <tr>\n",
              "      <th>25%</th>\n",
              "      <td>3.920000</td>\n",
              "      <td>4.730000</td>\n",
              "      <td>2.000000</td>\n",
              "      <td>3.000000</td>\n",
              "      <td>2.745000</td>\n",
              "      <td>2.844500</td>\n",
              "    </tr>\n",
              "    <tr>\n",
              "      <th>50%</th>\n",
              "      <td>4.225000</td>\n",
              "      <td>4.945000</td>\n",
              "      <td>3.000000</td>\n",
              "      <td>4.000000</td>\n",
              "      <td>3.190000</td>\n",
              "      <td>3.250000</td>\n",
              "    </tr>\n",
              "    <tr>\n",
              "      <th>75%</th>\n",
              "      <td>4.522500</td>\n",
              "      <td>5.000000</td>\n",
              "      <td>4.000000</td>\n",
              "      <td>4.000000</td>\n",
              "      <td>3.750000</td>\n",
              "      <td>3.700000</td>\n",
              "    </tr>\n",
              "    <tr>\n",
              "      <th>max</th>\n",
              "      <td>5.000000</td>\n",
              "      <td>5.000000</td>\n",
              "      <td>5.000000</td>\n",
              "      <td>5.000000</td>\n",
              "      <td>4.000000</td>\n",
              "      <td>4.000000</td>\n",
              "    </tr>\n",
              "  </tbody>\n",
              "</table>\n",
              "</div>"
            ],
            "text/plain": [
              "              HSC         SSC    Computer     English        Last     Overall\n",
              "count  180.000000  180.000000  180.000000  180.000000  180.000000  180.000000\n",
              "mean     4.217333    4.764111    3.161111    3.561111    3.134222    3.170644\n",
              "std      0.525012    0.371706    1.325149    0.891699    0.665754    0.618656\n",
              "min      2.190000    3.170000    1.000000    1.000000    1.000000    1.000000\n",
              "25%      3.920000    4.730000    2.000000    3.000000    2.745000    2.844500\n",
              "50%      4.225000    4.945000    3.000000    4.000000    3.190000    3.250000\n",
              "75%      4.522500    5.000000    4.000000    4.000000    3.750000    3.700000\n",
              "max      5.000000    5.000000    5.000000    5.000000    4.000000    4.000000"
            ]
          },
          "metadata": {},
          "output_type": "display_data"
        },
        {
          "name": "stdout",
          "output_type": "stream",
          "text": [
            "\n",
            "Income Level: Upper middle (30,000-50,000)\n"
          ]
        },
        {
          "data": {
            "application/vnd.microsoft.datawrangler.viewer.v0+json": {
              "columns": [
                {
                  "name": "index",
                  "rawType": "object",
                  "type": "string"
                },
                {
                  "name": "HSC",
                  "rawType": "float64",
                  "type": "float"
                },
                {
                  "name": "SSC",
                  "rawType": "float64",
                  "type": "float"
                },
                {
                  "name": "Computer",
                  "rawType": "float64",
                  "type": "float"
                },
                {
                  "name": "English",
                  "rawType": "float64",
                  "type": "float"
                },
                {
                  "name": "Last",
                  "rawType": "float64",
                  "type": "float"
                },
                {
                  "name": "Overall",
                  "rawType": "float64",
                  "type": "float"
                }
              ],
              "ref": "e27ca394-d1a2-4505-9ae6-5d33a5d82da7",
              "rows": [
                [
                  "count",
                  "110.0",
                  "110.0",
                  "110.0",
                  "110.0",
                  "110.0",
                  "110.0"
                ],
                [
                  "mean",
                  "4.131272727272727",
                  "4.747909090909091",
                  "3.4363636363636365",
                  "3.5636363636363635",
                  "3.1812454545454547",
                  "3.1917"
                ],
                [
                  "std",
                  "0.5454080352703358",
                  "0.3110594369426727",
                  "1.2672825273671777",
                  "0.8298034776437077",
                  "0.6277168353946426",
                  "0.5837596519053544"
                ],
                [
                  "min",
                  "2.17",
                  "3.96",
                  "1.0",
                  "1.0",
                  "1.0",
                  "1.25"
                ],
                [
                  "25%",
                  "3.75",
                  "4.5675",
                  "3.0",
                  "3.0",
                  "2.9125",
                  "2.8925"
                ],
                [
                  "50%",
                  "4.17",
                  "4.88",
                  "3.0",
                  "4.0",
                  "3.25",
                  "3.2649999999999997"
                ],
                [
                  "75%",
                  "4.5",
                  "5.0",
                  "5.0",
                  "4.0",
                  "3.645",
                  "3.67"
                ],
                [
                  "max",
                  "5.0",
                  "5.0",
                  "5.0",
                  "5.0",
                  "4.0",
                  "4.0"
                ]
              ],
              "shape": {
                "columns": 6,
                "rows": 8
              }
            },
            "text/html": [
              "<div>\n",
              "<style scoped>\n",
              "    .dataframe tbody tr th:only-of-type {\n",
              "        vertical-align: middle;\n",
              "    }\n",
              "\n",
              "    .dataframe tbody tr th {\n",
              "        vertical-align: top;\n",
              "    }\n",
              "\n",
              "    .dataframe thead th {\n",
              "        text-align: right;\n",
              "    }\n",
              "</style>\n",
              "<table border=\"1\" class=\"dataframe\">\n",
              "  <thead>\n",
              "    <tr style=\"text-align: right;\">\n",
              "      <th></th>\n",
              "      <th>HSC</th>\n",
              "      <th>SSC</th>\n",
              "      <th>Computer</th>\n",
              "      <th>English</th>\n",
              "      <th>Last</th>\n",
              "      <th>Overall</th>\n",
              "    </tr>\n",
              "  </thead>\n",
              "  <tbody>\n",
              "    <tr>\n",
              "      <th>count</th>\n",
              "      <td>110.000000</td>\n",
              "      <td>110.000000</td>\n",
              "      <td>110.000000</td>\n",
              "      <td>110.000000</td>\n",
              "      <td>110.000000</td>\n",
              "      <td>110.00000</td>\n",
              "    </tr>\n",
              "    <tr>\n",
              "      <th>mean</th>\n",
              "      <td>4.131273</td>\n",
              "      <td>4.747909</td>\n",
              "      <td>3.436364</td>\n",
              "      <td>3.563636</td>\n",
              "      <td>3.181245</td>\n",
              "      <td>3.19170</td>\n",
              "    </tr>\n",
              "    <tr>\n",
              "      <th>std</th>\n",
              "      <td>0.545408</td>\n",
              "      <td>0.311059</td>\n",
              "      <td>1.267283</td>\n",
              "      <td>0.829803</td>\n",
              "      <td>0.627717</td>\n",
              "      <td>0.58376</td>\n",
              "    </tr>\n",
              "    <tr>\n",
              "      <th>min</th>\n",
              "      <td>2.170000</td>\n",
              "      <td>3.960000</td>\n",
              "      <td>1.000000</td>\n",
              "      <td>1.000000</td>\n",
              "      <td>1.000000</td>\n",
              "      <td>1.25000</td>\n",
              "    </tr>\n",
              "    <tr>\n",
              "      <th>25%</th>\n",
              "      <td>3.750000</td>\n",
              "      <td>4.567500</td>\n",
              "      <td>3.000000</td>\n",
              "      <td>3.000000</td>\n",
              "      <td>2.912500</td>\n",
              "      <td>2.89250</td>\n",
              "    </tr>\n",
              "    <tr>\n",
              "      <th>50%</th>\n",
              "      <td>4.170000</td>\n",
              "      <td>4.880000</td>\n",
              "      <td>3.000000</td>\n",
              "      <td>4.000000</td>\n",
              "      <td>3.250000</td>\n",
              "      <td>3.26500</td>\n",
              "    </tr>\n",
              "    <tr>\n",
              "      <th>75%</th>\n",
              "      <td>4.500000</td>\n",
              "      <td>5.000000</td>\n",
              "      <td>5.000000</td>\n",
              "      <td>4.000000</td>\n",
              "      <td>3.645000</td>\n",
              "      <td>3.67000</td>\n",
              "    </tr>\n",
              "    <tr>\n",
              "      <th>max</th>\n",
              "      <td>5.000000</td>\n",
              "      <td>5.000000</td>\n",
              "      <td>5.000000</td>\n",
              "      <td>5.000000</td>\n",
              "      <td>4.000000</td>\n",
              "      <td>4.00000</td>\n",
              "    </tr>\n",
              "  </tbody>\n",
              "</table>\n",
              "</div>"
            ],
            "text/plain": [
              "              HSC         SSC    Computer     English        Last    Overall\n",
              "count  110.000000  110.000000  110.000000  110.000000  110.000000  110.00000\n",
              "mean     4.131273    4.747909    3.436364    3.563636    3.181245    3.19170\n",
              "std      0.545408    0.311059    1.267283    0.829803    0.627717    0.58376\n",
              "min      2.170000    3.960000    1.000000    1.000000    1.000000    1.25000\n",
              "25%      3.750000    4.567500    3.000000    3.000000    2.912500    2.89250\n",
              "50%      4.170000    4.880000    3.000000    4.000000    3.250000    3.26500\n",
              "75%      4.500000    5.000000    5.000000    4.000000    3.645000    3.67000\n",
              "max      5.000000    5.000000    5.000000    5.000000    4.000000    4.00000"
            ]
          },
          "metadata": {},
          "output_type": "display_data"
        }
      ],
      "source": [
        "for income,group in incomes:\n",
        "    sorted = group.sort_values(\"Income\", ascending=True)\n",
        "    print(f\"\\nIncome Level: {income}\")\n",
        "    display(sorted.describe())\n"
      ]
    },
    {
      "cell_type": "markdown",
      "metadata": {
        "id": "X_EFS_skcXNy"
      },
      "source": [
        "### Summary Statistics by Hometown (Village, City)"
      ]
    },
    {
      "cell_type": "code",
      "execution_count": 59,
      "metadata": {
        "id": "Q-W-N9cwbY4C"
      },
      "outputs": [
        {
          "name": "stdout",
          "output_type": "stream",
          "text": [
            "\n",
            "Type:: City\n"
          ]
        },
        {
          "data": {
            "application/vnd.microsoft.datawrangler.viewer.v0+json": {
              "columns": [
                {
                  "name": "index",
                  "rawType": "object",
                  "type": "string"
                },
                {
                  "name": "HSC",
                  "rawType": "float64",
                  "type": "float"
                },
                {
                  "name": "SSC",
                  "rawType": "float64",
                  "type": "float"
                },
                {
                  "name": "Computer",
                  "rawType": "float64",
                  "type": "float"
                },
                {
                  "name": "English",
                  "rawType": "float64",
                  "type": "float"
                },
                {
                  "name": "Last",
                  "rawType": "float64",
                  "type": "float"
                },
                {
                  "name": "Overall",
                  "rawType": "float64",
                  "type": "float"
                }
              ],
              "ref": "ea6d6799-3f6b-4e7d-8eb7-b9d550ebc387",
              "rows": [
                [
                  "count",
                  "213.0",
                  "213.0",
                  "213.0",
                  "213.0",
                  "213.0",
                  "213.0"
                ],
                [
                  "mean",
                  "4.20093896713615",
                  "4.7959154929577466",
                  "3.732394366197183",
                  "3.5868544600938965",
                  "3.2108779342723",
                  "3.223694835680751"
                ],
                [
                  "std",
                  "0.5421507318714414",
                  "0.32979944219200374",
                  "1.123812746423849",
                  "0.7880091719855268",
                  "0.5953371679311154",
                  "0.5733487412360627"
                ],
                [
                  "min",
                  "2.25",
                  "3.17",
                  "1.0",
                  "1.0",
                  "1.42",
                  "1.25"
                ],
                [
                  "25%",
                  "3.83",
                  "4.68",
                  "3.0",
                  "3.0",
                  "2.84",
                  "2.88"
                ],
                [
                  "50%",
                  "4.19",
                  "5.0",
                  "4.0",
                  "4.0",
                  "3.31",
                  "3.31"
                ],
                [
                  "75%",
                  "4.58",
                  "5.0",
                  "5.0",
                  "4.0",
                  "3.66",
                  "3.7"
                ],
                [
                  "max",
                  "5.0",
                  "5.0",
                  "5.0",
                  "5.0",
                  "4.0",
                  "4.0"
                ]
              ],
              "shape": {
                "columns": 6,
                "rows": 8
              }
            },
            "text/html": [
              "<div>\n",
              "<style scoped>\n",
              "    .dataframe tbody tr th:only-of-type {\n",
              "        vertical-align: middle;\n",
              "    }\n",
              "\n",
              "    .dataframe tbody tr th {\n",
              "        vertical-align: top;\n",
              "    }\n",
              "\n",
              "    .dataframe thead th {\n",
              "        text-align: right;\n",
              "    }\n",
              "</style>\n",
              "<table border=\"1\" class=\"dataframe\">\n",
              "  <thead>\n",
              "    <tr style=\"text-align: right;\">\n",
              "      <th></th>\n",
              "      <th>HSC</th>\n",
              "      <th>SSC</th>\n",
              "      <th>Computer</th>\n",
              "      <th>English</th>\n",
              "      <th>Last</th>\n",
              "      <th>Overall</th>\n",
              "    </tr>\n",
              "  </thead>\n",
              "  <tbody>\n",
              "    <tr>\n",
              "      <th>count</th>\n",
              "      <td>213.000000</td>\n",
              "      <td>213.000000</td>\n",
              "      <td>213.000000</td>\n",
              "      <td>213.000000</td>\n",
              "      <td>213.000000</td>\n",
              "      <td>213.000000</td>\n",
              "    </tr>\n",
              "    <tr>\n",
              "      <th>mean</th>\n",
              "      <td>4.200939</td>\n",
              "      <td>4.795915</td>\n",
              "      <td>3.732394</td>\n",
              "      <td>3.586854</td>\n",
              "      <td>3.210878</td>\n",
              "      <td>3.223695</td>\n",
              "    </tr>\n",
              "    <tr>\n",
              "      <th>std</th>\n",
              "      <td>0.542151</td>\n",
              "      <td>0.329799</td>\n",
              "      <td>1.123813</td>\n",
              "      <td>0.788009</td>\n",
              "      <td>0.595337</td>\n",
              "      <td>0.573349</td>\n",
              "    </tr>\n",
              "    <tr>\n",
              "      <th>min</th>\n",
              "      <td>2.250000</td>\n",
              "      <td>3.170000</td>\n",
              "      <td>1.000000</td>\n",
              "      <td>1.000000</td>\n",
              "      <td>1.420000</td>\n",
              "      <td>1.250000</td>\n",
              "    </tr>\n",
              "    <tr>\n",
              "      <th>25%</th>\n",
              "      <td>3.830000</td>\n",
              "      <td>4.680000</td>\n",
              "      <td>3.000000</td>\n",
              "      <td>3.000000</td>\n",
              "      <td>2.840000</td>\n",
              "      <td>2.880000</td>\n",
              "    </tr>\n",
              "    <tr>\n",
              "      <th>50%</th>\n",
              "      <td>4.190000</td>\n",
              "      <td>5.000000</td>\n",
              "      <td>4.000000</td>\n",
              "      <td>4.000000</td>\n",
              "      <td>3.310000</td>\n",
              "      <td>3.310000</td>\n",
              "    </tr>\n",
              "    <tr>\n",
              "      <th>75%</th>\n",
              "      <td>4.580000</td>\n",
              "      <td>5.000000</td>\n",
              "      <td>5.000000</td>\n",
              "      <td>4.000000</td>\n",
              "      <td>3.660000</td>\n",
              "      <td>3.700000</td>\n",
              "    </tr>\n",
              "    <tr>\n",
              "      <th>max</th>\n",
              "      <td>5.000000</td>\n",
              "      <td>5.000000</td>\n",
              "      <td>5.000000</td>\n",
              "      <td>5.000000</td>\n",
              "      <td>4.000000</td>\n",
              "      <td>4.000000</td>\n",
              "    </tr>\n",
              "  </tbody>\n",
              "</table>\n",
              "</div>"
            ],
            "text/plain": [
              "              HSC         SSC    Computer     English        Last     Overall\n",
              "count  213.000000  213.000000  213.000000  213.000000  213.000000  213.000000\n",
              "mean     4.200939    4.795915    3.732394    3.586854    3.210878    3.223695\n",
              "std      0.542151    0.329799    1.123813    0.788009    0.595337    0.573349\n",
              "min      2.250000    3.170000    1.000000    1.000000    1.420000    1.250000\n",
              "25%      3.830000    4.680000    3.000000    3.000000    2.840000    2.880000\n",
              "50%      4.190000    5.000000    4.000000    4.000000    3.310000    3.310000\n",
              "75%      4.580000    5.000000    5.000000    4.000000    3.660000    3.700000\n",
              "max      5.000000    5.000000    5.000000    5.000000    4.000000    4.000000"
            ]
          },
          "metadata": {},
          "output_type": "display_data"
        },
        {
          "name": "stdout",
          "output_type": "stream",
          "text": [
            "\n",
            "Type:: Village\n"
          ]
        },
        {
          "data": {
            "application/vnd.microsoft.datawrangler.viewer.v0+json": {
              "columns": [
                {
                  "name": "index",
                  "rawType": "object",
                  "type": "string"
                },
                {
                  "name": "HSC",
                  "rawType": "float64",
                  "type": "float"
                },
                {
                  "name": "SSC",
                  "rawType": "float64",
                  "type": "float"
                },
                {
                  "name": "Computer",
                  "rawType": "float64",
                  "type": "float"
                },
                {
                  "name": "English",
                  "rawType": "float64",
                  "type": "float"
                },
                {
                  "name": "Last",
                  "rawType": "float64",
                  "type": "float"
                },
                {
                  "name": "Overall",
                  "rawType": "float64",
                  "type": "float"
                }
              ],
              "ref": "f2791dda-41ff-4735-ae59-0ecb49713ed1",
              "rows": [
                [
                  "count",
                  "280.0",
                  "280.0",
                  "280.0",
                  "280.0",
                  "280.0",
                  "280.0"
                ],
                [
                  "mean",
                  "4.123178571428571",
                  "4.746142857142857",
                  "3.039285714285714",
                  "3.557142857142857",
                  "3.128142857142857",
                  "3.1615214285714286"
                ],
                [
                  "std",
                  "0.5483761334782552",
                  "0.36294511313135125",
                  "1.265148860215613",
                  "0.9295732907179403",
                  "0.6733174550606115",
                  "0.6050988481451818"
                ],
                [
                  "min",
                  "2.17",
                  "3.0",
                  "1.0",
                  "1.0",
                  "1.0",
                  "1.0"
                ],
                [
                  "25%",
                  "3.79",
                  "4.69",
                  "2.0",
                  "3.0",
                  "2.75",
                  "2.8565"
                ],
                [
                  "50%",
                  "4.17",
                  "4.855",
                  "3.0",
                  "4.0",
                  "3.25",
                  "3.25"
                ],
                [
                  "75%",
                  "4.5",
                  "5.0",
                  "4.0",
                  "4.0",
                  "3.68",
                  "3.67"
                ],
                [
                  "max",
                  "5.0",
                  "5.0",
                  "5.0",
                  "5.0",
                  "4.0",
                  "4.0"
                ]
              ],
              "shape": {
                "columns": 6,
                "rows": 8
              }
            },
            "text/html": [
              "<div>\n",
              "<style scoped>\n",
              "    .dataframe tbody tr th:only-of-type {\n",
              "        vertical-align: middle;\n",
              "    }\n",
              "\n",
              "    .dataframe tbody tr th {\n",
              "        vertical-align: top;\n",
              "    }\n",
              "\n",
              "    .dataframe thead th {\n",
              "        text-align: right;\n",
              "    }\n",
              "</style>\n",
              "<table border=\"1\" class=\"dataframe\">\n",
              "  <thead>\n",
              "    <tr style=\"text-align: right;\">\n",
              "      <th></th>\n",
              "      <th>HSC</th>\n",
              "      <th>SSC</th>\n",
              "      <th>Computer</th>\n",
              "      <th>English</th>\n",
              "      <th>Last</th>\n",
              "      <th>Overall</th>\n",
              "    </tr>\n",
              "  </thead>\n",
              "  <tbody>\n",
              "    <tr>\n",
              "      <th>count</th>\n",
              "      <td>280.000000</td>\n",
              "      <td>280.000000</td>\n",
              "      <td>280.000000</td>\n",
              "      <td>280.000000</td>\n",
              "      <td>280.000000</td>\n",
              "      <td>280.000000</td>\n",
              "    </tr>\n",
              "    <tr>\n",
              "      <th>mean</th>\n",
              "      <td>4.123179</td>\n",
              "      <td>4.746143</td>\n",
              "      <td>3.039286</td>\n",
              "      <td>3.557143</td>\n",
              "      <td>3.128143</td>\n",
              "      <td>3.161521</td>\n",
              "    </tr>\n",
              "    <tr>\n",
              "      <th>std</th>\n",
              "      <td>0.548376</td>\n",
              "      <td>0.362945</td>\n",
              "      <td>1.265149</td>\n",
              "      <td>0.929573</td>\n",
              "      <td>0.673317</td>\n",
              "      <td>0.605099</td>\n",
              "    </tr>\n",
              "    <tr>\n",
              "      <th>min</th>\n",
              "      <td>2.170000</td>\n",
              "      <td>3.000000</td>\n",
              "      <td>1.000000</td>\n",
              "      <td>1.000000</td>\n",
              "      <td>1.000000</td>\n",
              "      <td>1.000000</td>\n",
              "    </tr>\n",
              "    <tr>\n",
              "      <th>25%</th>\n",
              "      <td>3.790000</td>\n",
              "      <td>4.690000</td>\n",
              "      <td>2.000000</td>\n",
              "      <td>3.000000</td>\n",
              "      <td>2.750000</td>\n",
              "      <td>2.856500</td>\n",
              "    </tr>\n",
              "    <tr>\n",
              "      <th>50%</th>\n",
              "      <td>4.170000</td>\n",
              "      <td>4.855000</td>\n",
              "      <td>3.000000</td>\n",
              "      <td>4.000000</td>\n",
              "      <td>3.250000</td>\n",
              "      <td>3.250000</td>\n",
              "    </tr>\n",
              "    <tr>\n",
              "      <th>75%</th>\n",
              "      <td>4.500000</td>\n",
              "      <td>5.000000</td>\n",
              "      <td>4.000000</td>\n",
              "      <td>4.000000</td>\n",
              "      <td>3.680000</td>\n",
              "      <td>3.670000</td>\n",
              "    </tr>\n",
              "    <tr>\n",
              "      <th>max</th>\n",
              "      <td>5.000000</td>\n",
              "      <td>5.000000</td>\n",
              "      <td>5.000000</td>\n",
              "      <td>5.000000</td>\n",
              "      <td>4.000000</td>\n",
              "      <td>4.000000</td>\n",
              "    </tr>\n",
              "  </tbody>\n",
              "</table>\n",
              "</div>"
            ],
            "text/plain": [
              "              HSC         SSC    Computer     English        Last     Overall\n",
              "count  280.000000  280.000000  280.000000  280.000000  280.000000  280.000000\n",
              "mean     4.123179    4.746143    3.039286    3.557143    3.128143    3.161521\n",
              "std      0.548376    0.362945    1.265149    0.929573    0.673317    0.605099\n",
              "min      2.170000    3.000000    1.000000    1.000000    1.000000    1.000000\n",
              "25%      3.790000    4.690000    2.000000    3.000000    2.750000    2.856500\n",
              "50%      4.170000    4.855000    3.000000    4.000000    3.250000    3.250000\n",
              "75%      4.500000    5.000000    4.000000    4.000000    3.680000    3.670000\n",
              "max      5.000000    5.000000    5.000000    5.000000    4.000000    4.000000"
            ]
          },
          "metadata": {},
          "output_type": "display_data"
        }
      ],
      "source": [
        "for home,group in home_towns:\n",
        "    sorted = group.sort_values(\"Hometown\", ascending=True)\n",
        "    print(f\"\\nType:: {home}\")\n",
        "    display(sorted.describe())"
      ]
    },
    {
      "cell_type": "markdown",
      "metadata": {
        "id": "ARHchUyDcXpn"
      },
      "source": [
        "### Summary Statistics by GPA"
      ]
    },
    {
      "cell_type": "code",
      "execution_count": 60,
      "metadata": {
        "id": "wE7nFAQmbYs1"
      },
      "outputs": [
        {
          "name": "stdout",
          "output_type": "stream",
          "text": [
            "\n",
            "GPA Range: 1.00–1.99\n"
          ]
        },
        {
          "name": "stderr",
          "output_type": "stream",
          "text": [
            "/var/folders/rs/fv7q9bln0tx2rdy0fhbblvsm0000gn/T/ipykernel_13619/2178066430.py:6: FutureWarning: The default of observed=False is deprecated and will be changed to True in a future version of pandas. Pass observed=False to retain current behavior or observed=True to adopt the future default and silence this warning.\n",
            "  overall_gpas = df.groupby('GPA_Range')\n"
          ]
        },
        {
          "data": {
            "application/vnd.microsoft.datawrangler.viewer.v0+json": {
              "columns": [
                {
                  "name": "index",
                  "rawType": "object",
                  "type": "string"
                },
                {
                  "name": "HSC",
                  "rawType": "float64",
                  "type": "float"
                },
                {
                  "name": "SSC",
                  "rawType": "float64",
                  "type": "float"
                },
                {
                  "name": "Computer",
                  "rawType": "float64",
                  "type": "float"
                },
                {
                  "name": "English",
                  "rawType": "float64",
                  "type": "float"
                },
                {
                  "name": "Last",
                  "rawType": "float64",
                  "type": "float"
                },
                {
                  "name": "Overall",
                  "rawType": "float64",
                  "type": "float"
                }
              ],
              "ref": "c40c57b0-29c2-44ea-ac0d-da84fcf79fd9",
              "rows": [
                [
                  "count",
                  "24.0",
                  "24.0",
                  "24.0",
                  "24.0",
                  "24.0",
                  "24.0"
                ],
                [
                  "mean",
                  "4.042916666666667",
                  "4.784166666666667",
                  "2.875",
                  "3.125",
                  "1.6141666666666667",
                  "1.6524999999999999"
                ],
                [
                  "std",
                  "0.46881422265362094",
                  "0.27221980675256874",
                  "1.226961606004318",
                  "0.9469631093315001",
                  "0.4049360300168375",
                  "0.2586629500704158"
                ],
                [
                  "min",
                  "3.0",
                  "4.05",
                  "1.0",
                  "2.0",
                  "1.0",
                  "1.0"
                ],
                [
                  "25%",
                  "3.73",
                  "4.7275",
                  "2.0",
                  "2.0",
                  "1.3975",
                  "1.5675000000000001"
                ],
                [
                  "50%",
                  "4.125",
                  "4.835",
                  "3.0",
                  "3.5",
                  "1.5950000000000002",
                  "1.7149999999999999"
                ],
                [
                  "75%",
                  "4.5",
                  "5.0",
                  "4.0",
                  "4.0",
                  "1.8",
                  "1.865"
                ],
                [
                  "max",
                  "4.75",
                  "5.0",
                  "5.0",
                  "4.0",
                  "2.95",
                  "1.97"
                ]
              ],
              "shape": {
                "columns": 6,
                "rows": 8
              }
            },
            "text/html": [
              "<div>\n",
              "<style scoped>\n",
              "    .dataframe tbody tr th:only-of-type {\n",
              "        vertical-align: middle;\n",
              "    }\n",
              "\n",
              "    .dataframe tbody tr th {\n",
              "        vertical-align: top;\n",
              "    }\n",
              "\n",
              "    .dataframe thead th {\n",
              "        text-align: right;\n",
              "    }\n",
              "</style>\n",
              "<table border=\"1\" class=\"dataframe\">\n",
              "  <thead>\n",
              "    <tr style=\"text-align: right;\">\n",
              "      <th></th>\n",
              "      <th>HSC</th>\n",
              "      <th>SSC</th>\n",
              "      <th>Computer</th>\n",
              "      <th>English</th>\n",
              "      <th>Last</th>\n",
              "      <th>Overall</th>\n",
              "    </tr>\n",
              "  </thead>\n",
              "  <tbody>\n",
              "    <tr>\n",
              "      <th>count</th>\n",
              "      <td>24.000000</td>\n",
              "      <td>24.000000</td>\n",
              "      <td>24.000000</td>\n",
              "      <td>24.000000</td>\n",
              "      <td>24.000000</td>\n",
              "      <td>24.000000</td>\n",
              "    </tr>\n",
              "    <tr>\n",
              "      <th>mean</th>\n",
              "      <td>4.042917</td>\n",
              "      <td>4.784167</td>\n",
              "      <td>2.875000</td>\n",
              "      <td>3.125000</td>\n",
              "      <td>1.614167</td>\n",
              "      <td>1.652500</td>\n",
              "    </tr>\n",
              "    <tr>\n",
              "      <th>std</th>\n",
              "      <td>0.468814</td>\n",
              "      <td>0.272220</td>\n",
              "      <td>1.226962</td>\n",
              "      <td>0.946963</td>\n",
              "      <td>0.404936</td>\n",
              "      <td>0.258663</td>\n",
              "    </tr>\n",
              "    <tr>\n",
              "      <th>min</th>\n",
              "      <td>3.000000</td>\n",
              "      <td>4.050000</td>\n",
              "      <td>1.000000</td>\n",
              "      <td>2.000000</td>\n",
              "      <td>1.000000</td>\n",
              "      <td>1.000000</td>\n",
              "    </tr>\n",
              "    <tr>\n",
              "      <th>25%</th>\n",
              "      <td>3.730000</td>\n",
              "      <td>4.727500</td>\n",
              "      <td>2.000000</td>\n",
              "      <td>2.000000</td>\n",
              "      <td>1.397500</td>\n",
              "      <td>1.567500</td>\n",
              "    </tr>\n",
              "    <tr>\n",
              "      <th>50%</th>\n",
              "      <td>4.125000</td>\n",
              "      <td>4.835000</td>\n",
              "      <td>3.000000</td>\n",
              "      <td>3.500000</td>\n",
              "      <td>1.595000</td>\n",
              "      <td>1.715000</td>\n",
              "    </tr>\n",
              "    <tr>\n",
              "      <th>75%</th>\n",
              "      <td>4.500000</td>\n",
              "      <td>5.000000</td>\n",
              "      <td>4.000000</td>\n",
              "      <td>4.000000</td>\n",
              "      <td>1.800000</td>\n",
              "      <td>1.865000</td>\n",
              "    </tr>\n",
              "    <tr>\n",
              "      <th>max</th>\n",
              "      <td>4.750000</td>\n",
              "      <td>5.000000</td>\n",
              "      <td>5.000000</td>\n",
              "      <td>4.000000</td>\n",
              "      <td>2.950000</td>\n",
              "      <td>1.970000</td>\n",
              "    </tr>\n",
              "  </tbody>\n",
              "</table>\n",
              "</div>"
            ],
            "text/plain": [
              "             HSC        SSC   Computer    English       Last    Overall\n",
              "count  24.000000  24.000000  24.000000  24.000000  24.000000  24.000000\n",
              "mean    4.042917   4.784167   2.875000   3.125000   1.614167   1.652500\n",
              "std     0.468814   0.272220   1.226962   0.946963   0.404936   0.258663\n",
              "min     3.000000   4.050000   1.000000   2.000000   1.000000   1.000000\n",
              "25%     3.730000   4.727500   2.000000   2.000000   1.397500   1.567500\n",
              "50%     4.125000   4.835000   3.000000   3.500000   1.595000   1.715000\n",
              "75%     4.500000   5.000000   4.000000   4.000000   1.800000   1.865000\n",
              "max     4.750000   5.000000   5.000000   4.000000   2.950000   1.970000"
            ]
          },
          "metadata": {},
          "output_type": "display_data"
        },
        {
          "name": "stdout",
          "output_type": "stream",
          "text": [
            "\n",
            "GPA Range: 2.00–2.99\n"
          ]
        },
        {
          "data": {
            "application/vnd.microsoft.datawrangler.viewer.v0+json": {
              "columns": [
                {
                  "name": "index",
                  "rawType": "object",
                  "type": "string"
                },
                {
                  "name": "HSC",
                  "rawType": "float64",
                  "type": "float"
                },
                {
                  "name": "SSC",
                  "rawType": "float64",
                  "type": "float"
                },
                {
                  "name": "Computer",
                  "rawType": "float64",
                  "type": "float"
                },
                {
                  "name": "English",
                  "rawType": "float64",
                  "type": "float"
                },
                {
                  "name": "Last",
                  "rawType": "float64",
                  "type": "float"
                },
                {
                  "name": "Overall",
                  "rawType": "float64",
                  "type": "float"
                }
              ],
              "ref": "d88e25a1-32b2-4f4b-832e-ec4d1df2abc6",
              "rows": [
                [
                  "count",
                  "135.0",
                  "135.0",
                  "135.0",
                  "135.0",
                  "135.0",
                  "135.0"
                ],
                [
                  "mean",
                  "3.974518518518519",
                  "4.69762962962963",
                  "3.140740740740741",
                  "3.7777777777777777",
                  "2.587703703703704",
                  "2.6378222222222223"
                ],
                [
                  "std",
                  "0.5770689171167223",
                  "0.35717006987851874",
                  "1.2764395616992954",
                  "0.5943347801077867",
                  "0.33621896902975884",
                  "0.26566722160781503"
                ],
                [
                  "min",
                  "2.17",
                  "3.06",
                  "1.0",
                  "1.0",
                  "1.33",
                  "2.0"
                ],
                [
                  "25%",
                  "3.58",
                  "4.56",
                  "2.0",
                  "4.0",
                  "2.38",
                  "2.395"
                ],
                [
                  "50%",
                  "4.0",
                  "4.78",
                  "3.0",
                  "4.0",
                  "2.64",
                  "2.75"
                ],
                [
                  "75%",
                  "4.5",
                  "5.0",
                  "4.0",
                  "4.0",
                  "2.83",
                  "2.88"
                ],
                [
                  "max",
                  "5.0",
                  "5.0",
                  "5.0",
                  "5.0",
                  "3.83",
                  "2.98"
                ]
              ],
              "shape": {
                "columns": 6,
                "rows": 8
              }
            },
            "text/html": [
              "<div>\n",
              "<style scoped>\n",
              "    .dataframe tbody tr th:only-of-type {\n",
              "        vertical-align: middle;\n",
              "    }\n",
              "\n",
              "    .dataframe tbody tr th {\n",
              "        vertical-align: top;\n",
              "    }\n",
              "\n",
              "    .dataframe thead th {\n",
              "        text-align: right;\n",
              "    }\n",
              "</style>\n",
              "<table border=\"1\" class=\"dataframe\">\n",
              "  <thead>\n",
              "    <tr style=\"text-align: right;\">\n",
              "      <th></th>\n",
              "      <th>HSC</th>\n",
              "      <th>SSC</th>\n",
              "      <th>Computer</th>\n",
              "      <th>English</th>\n",
              "      <th>Last</th>\n",
              "      <th>Overall</th>\n",
              "    </tr>\n",
              "  </thead>\n",
              "  <tbody>\n",
              "    <tr>\n",
              "      <th>count</th>\n",
              "      <td>135.000000</td>\n",
              "      <td>135.00000</td>\n",
              "      <td>135.000000</td>\n",
              "      <td>135.000000</td>\n",
              "      <td>135.000000</td>\n",
              "      <td>135.000000</td>\n",
              "    </tr>\n",
              "    <tr>\n",
              "      <th>mean</th>\n",
              "      <td>3.974519</td>\n",
              "      <td>4.69763</td>\n",
              "      <td>3.140741</td>\n",
              "      <td>3.777778</td>\n",
              "      <td>2.587704</td>\n",
              "      <td>2.637822</td>\n",
              "    </tr>\n",
              "    <tr>\n",
              "      <th>std</th>\n",
              "      <td>0.577069</td>\n",
              "      <td>0.35717</td>\n",
              "      <td>1.276440</td>\n",
              "      <td>0.594335</td>\n",
              "      <td>0.336219</td>\n",
              "      <td>0.265667</td>\n",
              "    </tr>\n",
              "    <tr>\n",
              "      <th>min</th>\n",
              "      <td>2.170000</td>\n",
              "      <td>3.06000</td>\n",
              "      <td>1.000000</td>\n",
              "      <td>1.000000</td>\n",
              "      <td>1.330000</td>\n",
              "      <td>2.000000</td>\n",
              "    </tr>\n",
              "    <tr>\n",
              "      <th>25%</th>\n",
              "      <td>3.580000</td>\n",
              "      <td>4.56000</td>\n",
              "      <td>2.000000</td>\n",
              "      <td>4.000000</td>\n",
              "      <td>2.380000</td>\n",
              "      <td>2.395000</td>\n",
              "    </tr>\n",
              "    <tr>\n",
              "      <th>50%</th>\n",
              "      <td>4.000000</td>\n",
              "      <td>4.78000</td>\n",
              "      <td>3.000000</td>\n",
              "      <td>4.000000</td>\n",
              "      <td>2.640000</td>\n",
              "      <td>2.750000</td>\n",
              "    </tr>\n",
              "    <tr>\n",
              "      <th>75%</th>\n",
              "      <td>4.500000</td>\n",
              "      <td>5.00000</td>\n",
              "      <td>4.000000</td>\n",
              "      <td>4.000000</td>\n",
              "      <td>2.830000</td>\n",
              "      <td>2.880000</td>\n",
              "    </tr>\n",
              "    <tr>\n",
              "      <th>max</th>\n",
              "      <td>5.000000</td>\n",
              "      <td>5.00000</td>\n",
              "      <td>5.000000</td>\n",
              "      <td>5.000000</td>\n",
              "      <td>3.830000</td>\n",
              "      <td>2.980000</td>\n",
              "    </tr>\n",
              "  </tbody>\n",
              "</table>\n",
              "</div>"
            ],
            "text/plain": [
              "              HSC        SSC    Computer     English        Last     Overall\n",
              "count  135.000000  135.00000  135.000000  135.000000  135.000000  135.000000\n",
              "mean     3.974519    4.69763    3.140741    3.777778    2.587704    2.637822\n",
              "std      0.577069    0.35717    1.276440    0.594335    0.336219    0.265667\n",
              "min      2.170000    3.06000    1.000000    1.000000    1.330000    2.000000\n",
              "25%      3.580000    4.56000    2.000000    4.000000    2.380000    2.395000\n",
              "50%      4.000000    4.78000    3.000000    4.000000    2.640000    2.750000\n",
              "75%      4.500000    5.00000    4.000000    4.000000    2.830000    2.880000\n",
              "max      5.000000    5.00000    5.000000    5.000000    3.830000    2.980000"
            ]
          },
          "metadata": {},
          "output_type": "display_data"
        },
        {
          "name": "stdout",
          "output_type": "stream",
          "text": [
            "\n",
            "GPA Range: 3.00–3.99\n"
          ]
        },
        {
          "data": {
            "application/vnd.microsoft.datawrangler.viewer.v0+json": {
              "columns": [
                {
                  "name": "index",
                  "rawType": "object",
                  "type": "string"
                },
                {
                  "name": "HSC",
                  "rawType": "float64",
                  "type": "float"
                },
                {
                  "name": "SSC",
                  "rawType": "float64",
                  "type": "float"
                },
                {
                  "name": "Computer",
                  "rawType": "float64",
                  "type": "float"
                },
                {
                  "name": "English",
                  "rawType": "float64",
                  "type": "float"
                },
                {
                  "name": "Last",
                  "rawType": "float64",
                  "type": "float"
                },
                {
                  "name": "Overall",
                  "rawType": "float64",
                  "type": "float"
                }
              ],
              "ref": "ef1dc868-3e40-4ee7-97e6-b26d02338b1a",
              "rows": [
                [
                  "count",
                  "320.0",
                  "320.0",
                  "320.0",
                  "320.0",
                  "320.0",
                  "320.0"
                ],
                [
                  "mean",
                  "4.213375",
                  "4.7871875",
                  "3.440625",
                  "3.484375",
                  "3.486615625",
                  "3.500334375"
                ],
                [
                  "std",
                  "0.5137139800429185",
                  "0.35352000094171576",
                  "1.2404770482399226",
                  "0.9266548782167415",
                  "0.3449586033129311",
                  "0.27094547810618874"
                ],
                [
                  "min",
                  "2.19",
                  "3.0",
                  "1.0",
                  "1.0",
                  "1.82",
                  "3.0"
                ],
                [
                  "25%",
                  "3.8675",
                  "4.7275",
                  "3.0",
                  "3.0",
                  "3.25",
                  "3.25"
                ],
                [
                  "50%",
                  "4.25",
                  "5.0",
                  "3.0",
                  "3.0",
                  "3.5",
                  "3.5"
                ],
                [
                  "75%",
                  "4.5",
                  "5.0",
                  "5.0",
                  "4.0",
                  "3.75",
                  "3.74"
                ],
                [
                  "max",
                  "5.0",
                  "5.0",
                  "5.0",
                  "5.0",
                  "4.0",
                  "3.98"
                ]
              ],
              "shape": {
                "columns": 6,
                "rows": 8
              }
            },
            "text/html": [
              "<div>\n",
              "<style scoped>\n",
              "    .dataframe tbody tr th:only-of-type {\n",
              "        vertical-align: middle;\n",
              "    }\n",
              "\n",
              "    .dataframe tbody tr th {\n",
              "        vertical-align: top;\n",
              "    }\n",
              "\n",
              "    .dataframe thead th {\n",
              "        text-align: right;\n",
              "    }\n",
              "</style>\n",
              "<table border=\"1\" class=\"dataframe\">\n",
              "  <thead>\n",
              "    <tr style=\"text-align: right;\">\n",
              "      <th></th>\n",
              "      <th>HSC</th>\n",
              "      <th>SSC</th>\n",
              "      <th>Computer</th>\n",
              "      <th>English</th>\n",
              "      <th>Last</th>\n",
              "      <th>Overall</th>\n",
              "    </tr>\n",
              "  </thead>\n",
              "  <tbody>\n",
              "    <tr>\n",
              "      <th>count</th>\n",
              "      <td>320.000000</td>\n",
              "      <td>320.000000</td>\n",
              "      <td>320.000000</td>\n",
              "      <td>320.000000</td>\n",
              "      <td>320.000000</td>\n",
              "      <td>320.000000</td>\n",
              "    </tr>\n",
              "    <tr>\n",
              "      <th>mean</th>\n",
              "      <td>4.213375</td>\n",
              "      <td>4.787187</td>\n",
              "      <td>3.440625</td>\n",
              "      <td>3.484375</td>\n",
              "      <td>3.486616</td>\n",
              "      <td>3.500334</td>\n",
              "    </tr>\n",
              "    <tr>\n",
              "      <th>std</th>\n",
              "      <td>0.513714</td>\n",
              "      <td>0.353520</td>\n",
              "      <td>1.240477</td>\n",
              "      <td>0.926655</td>\n",
              "      <td>0.344959</td>\n",
              "      <td>0.270945</td>\n",
              "    </tr>\n",
              "    <tr>\n",
              "      <th>min</th>\n",
              "      <td>2.190000</td>\n",
              "      <td>3.000000</td>\n",
              "      <td>1.000000</td>\n",
              "      <td>1.000000</td>\n",
              "      <td>1.820000</td>\n",
              "      <td>3.000000</td>\n",
              "    </tr>\n",
              "    <tr>\n",
              "      <th>25%</th>\n",
              "      <td>3.867500</td>\n",
              "      <td>4.727500</td>\n",
              "      <td>3.000000</td>\n",
              "      <td>3.000000</td>\n",
              "      <td>3.250000</td>\n",
              "      <td>3.250000</td>\n",
              "    </tr>\n",
              "    <tr>\n",
              "      <th>50%</th>\n",
              "      <td>4.250000</td>\n",
              "      <td>5.000000</td>\n",
              "      <td>3.000000</td>\n",
              "      <td>3.000000</td>\n",
              "      <td>3.500000</td>\n",
              "      <td>3.500000</td>\n",
              "    </tr>\n",
              "    <tr>\n",
              "      <th>75%</th>\n",
              "      <td>4.500000</td>\n",
              "      <td>5.000000</td>\n",
              "      <td>5.000000</td>\n",
              "      <td>4.000000</td>\n",
              "      <td>3.750000</td>\n",
              "      <td>3.740000</td>\n",
              "    </tr>\n",
              "    <tr>\n",
              "      <th>max</th>\n",
              "      <td>5.000000</td>\n",
              "      <td>5.000000</td>\n",
              "      <td>5.000000</td>\n",
              "      <td>5.000000</td>\n",
              "      <td>4.000000</td>\n",
              "      <td>3.980000</td>\n",
              "    </tr>\n",
              "  </tbody>\n",
              "</table>\n",
              "</div>"
            ],
            "text/plain": [
              "              HSC         SSC    Computer     English        Last     Overall\n",
              "count  320.000000  320.000000  320.000000  320.000000  320.000000  320.000000\n",
              "mean     4.213375    4.787187    3.440625    3.484375    3.486616    3.500334\n",
              "std      0.513714    0.353520    1.240477    0.926655    0.344959    0.270945\n",
              "min      2.190000    3.000000    1.000000    1.000000    1.820000    3.000000\n",
              "25%      3.867500    4.727500    3.000000    3.000000    3.250000    3.250000\n",
              "50%      4.250000    5.000000    3.000000    3.000000    3.500000    3.500000\n",
              "75%      4.500000    5.000000    5.000000    4.000000    3.750000    3.740000\n",
              "max      5.000000    5.000000    5.000000    5.000000    4.000000    3.980000"
            ]
          },
          "metadata": {},
          "output_type": "display_data"
        },
        {
          "name": "stdout",
          "output_type": "stream",
          "text": [
            "\n",
            "GPA Range: 4.00\n"
          ]
        },
        {
          "data": {
            "application/vnd.microsoft.datawrangler.viewer.v0+json": {
              "columns": [
                {
                  "name": "index",
                  "rawType": "object",
                  "type": "string"
                },
                {
                  "name": "HSC",
                  "rawType": "float64",
                  "type": "float"
                },
                {
                  "name": "SSC",
                  "rawType": "float64",
                  "type": "float"
                },
                {
                  "name": "Computer",
                  "rawType": "float64",
                  "type": "float"
                },
                {
                  "name": "English",
                  "rawType": "float64",
                  "type": "float"
                },
                {
                  "name": "Last",
                  "rawType": "float64",
                  "type": "float"
                },
                {
                  "name": "Overall",
                  "rawType": "float64",
                  "type": "float"
                }
              ],
              "ref": "9f3cb995-284d-4f3c-a27f-b242d9073ca5",
              "rows": [
                [
                  "count",
                  "14.0",
                  "14.0",
                  "14.0",
                  "14.0",
                  "14.0",
                  "14.0"
                ],
                [
                  "mean",
                  "4.815714285714286",
                  "4.9678571428571425",
                  "3.7142857142857144",
                  "4.285714285714286",
                  "4.0",
                  "4.0"
                ],
                [
                  "std",
                  "0.30147622143033453",
                  "0.08450567313032184",
                  "0.9944903161976937",
                  "0.9138735334633754",
                  "0.0",
                  "0.0"
                ],
                [
                  "min",
                  "4.17",
                  "4.72",
                  "2.0",
                  "3.0",
                  "4.0",
                  "4.0"
                ],
                [
                  "25%",
                  "4.665",
                  "5.0",
                  "3.0",
                  "3.25",
                  "4.0",
                  "4.0"
                ],
                [
                  "50%",
                  "5.0",
                  "5.0",
                  "3.5",
                  "5.0",
                  "4.0",
                  "4.0"
                ],
                [
                  "75%",
                  "5.0",
                  "5.0",
                  "4.75",
                  "5.0",
                  "4.0",
                  "4.0"
                ],
                [
                  "max",
                  "5.0",
                  "5.0",
                  "5.0",
                  "5.0",
                  "4.0",
                  "4.0"
                ]
              ],
              "shape": {
                "columns": 6,
                "rows": 8
              }
            },
            "text/html": [
              "<div>\n",
              "<style scoped>\n",
              "    .dataframe tbody tr th:only-of-type {\n",
              "        vertical-align: middle;\n",
              "    }\n",
              "\n",
              "    .dataframe tbody tr th {\n",
              "        vertical-align: top;\n",
              "    }\n",
              "\n",
              "    .dataframe thead th {\n",
              "        text-align: right;\n",
              "    }\n",
              "</style>\n",
              "<table border=\"1\" class=\"dataframe\">\n",
              "  <thead>\n",
              "    <tr style=\"text-align: right;\">\n",
              "      <th></th>\n",
              "      <th>HSC</th>\n",
              "      <th>SSC</th>\n",
              "      <th>Computer</th>\n",
              "      <th>English</th>\n",
              "      <th>Last</th>\n",
              "      <th>Overall</th>\n",
              "    </tr>\n",
              "  </thead>\n",
              "  <tbody>\n",
              "    <tr>\n",
              "      <th>count</th>\n",
              "      <td>14.000000</td>\n",
              "      <td>14.000000</td>\n",
              "      <td>14.000000</td>\n",
              "      <td>14.000000</td>\n",
              "      <td>14.0</td>\n",
              "      <td>14.0</td>\n",
              "    </tr>\n",
              "    <tr>\n",
              "      <th>mean</th>\n",
              "      <td>4.815714</td>\n",
              "      <td>4.967857</td>\n",
              "      <td>3.714286</td>\n",
              "      <td>4.285714</td>\n",
              "      <td>4.0</td>\n",
              "      <td>4.0</td>\n",
              "    </tr>\n",
              "    <tr>\n",
              "      <th>std</th>\n",
              "      <td>0.301476</td>\n",
              "      <td>0.084506</td>\n",
              "      <td>0.994490</td>\n",
              "      <td>0.913874</td>\n",
              "      <td>0.0</td>\n",
              "      <td>0.0</td>\n",
              "    </tr>\n",
              "    <tr>\n",
              "      <th>min</th>\n",
              "      <td>4.170000</td>\n",
              "      <td>4.720000</td>\n",
              "      <td>2.000000</td>\n",
              "      <td>3.000000</td>\n",
              "      <td>4.0</td>\n",
              "      <td>4.0</td>\n",
              "    </tr>\n",
              "    <tr>\n",
              "      <th>25%</th>\n",
              "      <td>4.665000</td>\n",
              "      <td>5.000000</td>\n",
              "      <td>3.000000</td>\n",
              "      <td>3.250000</td>\n",
              "      <td>4.0</td>\n",
              "      <td>4.0</td>\n",
              "    </tr>\n",
              "    <tr>\n",
              "      <th>50%</th>\n",
              "      <td>5.000000</td>\n",
              "      <td>5.000000</td>\n",
              "      <td>3.500000</td>\n",
              "      <td>5.000000</td>\n",
              "      <td>4.0</td>\n",
              "      <td>4.0</td>\n",
              "    </tr>\n",
              "    <tr>\n",
              "      <th>75%</th>\n",
              "      <td>5.000000</td>\n",
              "      <td>5.000000</td>\n",
              "      <td>4.750000</td>\n",
              "      <td>5.000000</td>\n",
              "      <td>4.0</td>\n",
              "      <td>4.0</td>\n",
              "    </tr>\n",
              "    <tr>\n",
              "      <th>max</th>\n",
              "      <td>5.000000</td>\n",
              "      <td>5.000000</td>\n",
              "      <td>5.000000</td>\n",
              "      <td>5.000000</td>\n",
              "      <td>4.0</td>\n",
              "      <td>4.0</td>\n",
              "    </tr>\n",
              "  </tbody>\n",
              "</table>\n",
              "</div>"
            ],
            "text/plain": [
              "             HSC        SSC   Computer    English  Last  Overall\n",
              "count  14.000000  14.000000  14.000000  14.000000  14.0     14.0\n",
              "mean    4.815714   4.967857   3.714286   4.285714   4.0      4.0\n",
              "std     0.301476   0.084506   0.994490   0.913874   0.0      0.0\n",
              "min     4.170000   4.720000   2.000000   3.000000   4.0      4.0\n",
              "25%     4.665000   5.000000   3.000000   3.250000   4.0      4.0\n",
              "50%     5.000000   5.000000   3.500000   5.000000   4.0      4.0\n",
              "75%     5.000000   5.000000   4.750000   5.000000   4.0      4.0\n",
              "max     5.000000   5.000000   5.000000   5.000000   4.0      4.0"
            ]
          },
          "metadata": {},
          "output_type": "display_data"
        }
      ],
      "source": [
        "bins = [0, 1.99, 2.99, 3.99, 4.01]\n",
        "labels = [\"1.00–1.99\", \"2.00–2.99\", \"3.00–3.99\", \"4.00\"]\n",
        "\n",
        "df['GPA_Range'] = pd.cut(df['Overall'], bins=bins, labels=labels, include_lowest=True)\n",
        "\n",
        "overall_gpas = df.groupby('GPA_Range')\n",
        "\n",
        "for gpa, group in overall_gpas:\n",
        "    print(f\"\\nGPA Range: {gpa}\")\n",
        "    display(group.describe())"
      ]
    },
    {
      "cell_type": "markdown",
      "metadata": {
        "id": "fvGxgppv2gkh"
      },
      "source": [
        "## Hypothesis Testing"
      ]
    },
    {
      "cell_type": "markdown",
      "metadata": {
        "id": "f1FrfMXn2oDM"
      },
      "source": [
        "### 1. Does time spent on gaming, job, and extracurriculurs affect time spent on preparation?"
      ]
    },
    {
      "cell_type": "code",
      "execution_count": 61,
      "metadata": {
        "colab": {
          "base_uri": "https://localhost:8080/",
          "height": 599
        },
        "id": "OMh1Ev6X2rOC",
        "outputId": "c996ba00-e2f5-4691-8cc5-aca2ba1fe794"
      },
      "outputs": [
        {
          "name": "stdout",
          "output_type": "stream",
          "text": [
            "Chi-square: 149.4092948823017\n",
            "Degrees of freedom: 22\n",
            "P-value: 6.1845487021012385e-21\n"
          ]
        },
        {
          "data": {
            "image/png": "[encoded data removed]",
            "text/plain": [
              "<Figure size 1400x800 with 2 Axes>"
            ]
          },
          "metadata": {},
          "output_type": "display_data"
        }
      ],
      "source": [
        "# Creates a Profile column with a combined set of Gaming, Job, and Extracurriculurs\n",
        "df['Profile'] = ('Gaming: ' +\n",
        "    df['Gaming'].astype(str) + ' | ' +\n",
        "    'Job: ' + df['Job'].astype(str) + ' | ' +\n",
        "    'Extra: ' + df['Extra'].astype(str)\n",
        ")\n",
        "\n",
        "prep_dist = df.groupby('Profile')['Preparation'].value_counts(normalize=True).mul(100).rename('Percentage').reset_index()\n",
        "\n",
        "contingency = pd.crosstab(df['Profile'], df['Preparation'])\n",
        "\n",
        "# Chi-square test\n",
        "chi2, p, dof, expected = stats.chi2_contingency(contingency)\n",
        "\n",
        "print(f\"Chi-square: {chi2}\")\n",
        "print(f\"Degrees of freedom: {dof}\")\n",
        "print(f\"P-value: {p}\")\n",
        "\n",
        "# Heatmap\n",
        "heatmap_data = prep_dist.pivot(index='Profile', columns='Preparation', values='Percentage')\n",
        "heatmap_data = heatmap_data.fillna(0)  # Replace NaN with 0\n",
        "\n",
        "plt.figure(figsize=(14, 8))\n",
        "sns.heatmap(heatmap_data, annot=True, cmap='YlGnBu', fmt=\".1f\")\n",
        "plt.title(\"Combined Effects of Gaming, Job, and Extracurriculars on Preparation (%)\")\n",
        "plt.xlabel(\"Preparation Level\")\n",
        "plt.ylabel(\"Gaming + Job + Extracurricular Profile\")\n",
        "plt.xticks(rotation=0)\n",
        "plt.tick_params(axis='x', length=0)\n",
        "plt.yticks(rotation=0)\n",
        "plt.tick_params(axis='y', length=0)\n",
        "plt.tight_layout()\n",
        "plt.show()"
      ]
    },
    {
      "cell_type": "markdown",
      "metadata": {
        "id": "15lxJ47_2sUx"
      },
      "source": [
        "### 2. Does the level of income have an impact on the computer proficiency level of a student? (α = 0.10)\n",
        "H0: There is no difference between the computer proficiencies of any of the students based on their levels of income.\n",
        "\n",
        "HA: There is a difference between at least one of the level of incomes due to computer proficiency."
      ]
    },
    {
      "cell_type": "code",
      "execution_count": 62,
      "metadata": {
        "colab": {
          "base_uri": "https://localhost:8080/",
          "height": 1000
        },
        "id": "DWMFkUuA2yid",
        "outputId": "98eb6f91-711d-412e-d443-487e45f8dbd6"
      },
      "outputs": [
        {
          "name": "stdout",
          "output_type": "stream",
          "text": [
            "Income\n",
            "High (Above 50,000)             3.519380\n",
            "Low (Below 15,000)              3.310811\n",
            "Lower middle (15,000-30,000)    3.161111\n",
            "Upper middle (30,000-50,000)    3.436364\n",
            "Name: Computer, dtype: float64\n"
          ]
        },
        {
          "name": "stderr",
          "output_type": "stream",
          "text": [
            "/var/folders/rs/fv7q9bln0tx2rdy0fhbblvsm0000gn/T/ipykernel_13619/743465771.py:16: FutureWarning: \n",
            "\n",
            "Passing `palette` without assigning `hue` is deprecated and will be removed in v0.14.0. Assign the `x` variable to `hue` and set `legend=False` for the same effect.\n",
            "\n",
            "  sns.boxplot(x=groups, y=value, data=df, palette='deep')\n"
          ]
        },
        {
          "data": {
            "image/png": "[encoded data removed]",
            "text/plain": [
              "<Figure size 640x480 with 1 Axes>"
            ]
          },
          "metadata": {},
          "output_type": "display_data"
        },
        {
          "name": "stdout",
          "output_type": "stream",
          "text": [
            "P-value for one-way ANOVA test: 0.0713386281485567\n",
            "Post-Hoc (Tukey's HSD): Pairwise Group Comparisons (95.0% Confidence Interval)\n",
            "Comparison  Statistic  p-value  Lower CI  Upper CI\n",
            " (0 - 1)      0.150     0.821    -0.295     0.594\n",
            " (0 - 2)     -0.126     0.909    -0.609     0.358\n",
            " (0 - 3)     -0.209     0.661    -0.678     0.261\n",
            " (1 - 0)     -0.150     0.821    -0.594     0.295\n",
            " (1 - 2)     -0.275     0.264    -0.665     0.114\n",
            " (1 - 3)     -0.358     0.063    -0.729     0.013\n",
            " (2 - 0)      0.126     0.909    -0.358     0.609\n",
            " (2 - 1)      0.275     0.264    -0.114     0.665\n",
            " (2 - 3)     -0.083     0.956    -0.500     0.334\n",
            " (3 - 0)      0.209     0.661    -0.261     0.678\n",
            " (3 - 1)      0.358     0.063    -0.013     0.729\n",
            " (3 - 2)      0.083     0.956    -0.334     0.500\n",
            "\n"
          ]
        }
      ],
      "source": [
        "groups = 'Income'\n",
        "value = 'Computer'\n",
        "\n",
        "summary = df.groupby(groups)[value].mean()\n",
        "print(summary)\n",
        "\n",
        "\n",
        "low = df[df[groups] == 'Low (Below 15,000)'][value]\n",
        "low_mid  = df[df[groups] == 'Lower middle (15,000-30,000)'][value]\n",
        "upper_mid = df[df[groups] == 'Upper middle (30,000-50,000)'][value]\n",
        "high= df[df[groups] == 'High (Above 50,000)'][value]\n",
        "\n",
        "# Box Plot & ANOVA Test - Post Hoc (Tukey's HSD)\n",
        "\n",
        "# Boxpolot\n",
        "sns.boxplot(x=groups, y=value, data=df, palette='deep')\n",
        "plt.title(\"Computer Proficiency Distribution by Level of Income\")\n",
        "plt.xlabel(\"Level of Income\")\n",
        "plt.ylabel(\"Computer Proficiency (1-5)\")\n",
        "plt.xticks(rotation=30, ha='right')\n",
        "plt.tight_layout()\n",
        "plt.show()\n",
        "\n",
        "# ANOVA\n",
        "p_value = stats.f_oneway(low, low_mid, upper_mid, high).pvalue\n",
        "print(f\"P-value for one-way ANOVA test: {p_value}\")\n",
        "\n",
        "# Post Hoc (Tukey's HSD)\n",
        "tukey = stats.tukey_hsd(low, low_mid, upper_mid, high)\n",
        "print(f\"Post-Hoc (Tukey's HSD): {tukey}\")\n"
      ]
    },
    {
      "cell_type": "markdown",
      "metadata": {
        "id": "5EvUdRQ72_Bf"
      },
      "source": [
        "### 3. Does the Highschool GPA correlate to College Overall GPA? (α = 0.05)\n",
        "H0: There is no a significant relationship between High School GPA and College GPA\n",
        "\n",
        "HA: There is a significant relationship between High School GPA and College GPA"
      ]
    },
    {
      "cell_type": "code",
      "execution_count": 63,
      "metadata": {
        "colab": {
          "base_uri": "https://localhost:8080/",
          "height": 509
        },
        "id": "fW_NtSUe3E-O",
        "outputId": "454dc5f9-6293-48d1-8bbb-5323bb74c28a"
      },
      "outputs": [
        {
          "name": "stdout",
          "output_type": "stream",
          "text": [
            "Spearman's Rank Coefficient (rho) =  0.28651230272124145\n",
            "p-value 9.061356278570244e-11\n"
          ]
        },
        {
          "data": {
            "image/png": "[encoded data removed]",
            "text/plain": [
              "<Figure size 640x480 with 1 Axes>"
            ]
          },
          "metadata": {},
          "output_type": "display_data"
        }
      ],
      "source": [
        "x_val = 'HSC'\n",
        "y_val = 'Overall'\n",
        "df_hyp3 = df[[x_val, y_val]]\n",
        "\n",
        "rho, p = stats.spearmanr(df_hyp3[x_val], df_hyp3[y_val])\n",
        "print(\"Spearman's Rank Coefficient (rho) = \", rho)\n",
        "print(\"p-value\", p)\n",
        "\n",
        "#Scatter Plot & Regression Analysis & Spearman's Rank Correlation\n",
        "sns.regplot(x=x_val, y=y_val, data=df_hyp3, line_kws={'color':'red'})\n",
        "plt.title('Highschool GPA Versus College Overall GPA')\n",
        "plt.xlabel('Highschool GPA (5.0 Scale)')\n",
        "plt.ylabel('College Cumulat vGPA (4.0 Scale)')\n",
        "plt.show()"
      ]
    },
    {
      "cell_type": "markdown",
      "metadata": {
        "id": "GY0lR7jS3hrv"
      },
      "source": [
        "## Conclusions\n",
        "\n",
        "### 1. Does time spent on gaming, job, and extracurriculars affect time spent on preparation?\n",
        "\n",
        "The p-value of the Chi-squared test is less than .01, the value of α. \n",
        "Based off the heatmap, those who have an extracurricular tend to prepare for 2-3 hours most of the time. However, those who game for over 3 hours tend to prepare the least at around 0-1 hours, even if they have an extracurricular.\n",
        "\n",
        "Otherwise, there does not appear to be a significant relation between time spent on preparation and time spent on gaming or having a job, as across all groups who devote time to gaming, a job, or an extracurricular, but game less than 2-3 hours, the time spent on preparation tends to be 2-3 hours.\n",
        "\n",
        "### 2. Does the level of income have an impact on the computer proficiency level of a student?\n",
        "\n",
        "The p-value of our ANOVA test is greater than 0.01, the value of α. Since the p-value ≤α, it is unlikely that we would observe the results of this test if there was no difference between the computer proficiencies of students from different income level. Thus, we reject the null hypothesis.\n",
        "\n",
        "In regards to Tukey's Post-Hoc test, the p-values of all pairings are ≤α, so we can conclude that there are differences between each income level in regards to computer proficiency.\n",
        "\n",
        "### 3. Does the High School GPA correlate to College Overall GPA?\n",
        "The p-value of our Spearman's Rank Correlation test is less than 0.05, the value of α. Since the p-value ≤α, the correlation coefficient is statistically significant, and we reject the null hypothesis.\n",
        "\n",
        "Thus, there is a significant relationship between High School GPA and College Overall GPA. Additionally, because the the Spearman's Rank Coefficient was positive, we know that this relationship is a positive one."
      ]
    }
  ],
  "metadata": {
    "colab": {
      "provenance": []
    },
    "kernelspec": {
      "display_name": "Python 3",
      "name": "python3"
    },
    "language_info": {
      "name": "python"
    }
  },
  "nbformat": 4,
  "nbformat_minor": 0
}
